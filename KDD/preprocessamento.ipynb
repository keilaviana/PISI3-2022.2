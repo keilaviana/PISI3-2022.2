{
  "cells": [
    {
      "cell_type": "markdown",
      "metadata": {
        "id": "sR4jDg5_2gQF"
      },
      "source": []
    },
    {
      "cell_type": "code",
      "execution_count": 12,
      "metadata": {
        "id": "Gw6LMZFn2XuK"
      },
      "outputs": [],
      "source": [
        "import pandas as pd\n",
        "import numpy as np\n",
        "\n",
        "food = pd.read_csv(\"food.csv\")\n",
        "\n",
        "food['food_category_id'].fillna(0, inplace=True) #Substituindo 'nan' por 0 (valor que não está incluso), criando nova categoria\n",
        "food['description'].fillna(\"Indisponível\", inplace=True) #Substituindo descrições nulas para uma categoria a parte\n",
        "\n",
        "nutrient = pd.read_csv(\"nutrient.csv\")\n",
        "\n",
        "nutrient['nutrient_nbr'].fillna(0, inplace=True) #Assumindo 0 como valor padrão de substituição quando esse valor NÃO está já presente\n",
        "\n",
        "food_nutrient = pd.read_csv(\"food_nutrient.csv\", low_memory=False)\n",
        "\n",
        "media = food_nutrient['derivation_id'].mean()\n",
        "\n",
        "food_nutrient['derivation_id'].fillna(round(media), inplace=True)\n",
        "food_nutrient['data_points'].fillna(0, inplace=True)\n",
        "\n",
        "food_dt = food[['fdc_id', 'description', 'food_category_id']]\n",
        "nutrient_dt = nutrient[['id', 'name', 'unit_name', 'nutrient_nbr']]\n",
        "food_nutrient_dt = food_nutrient[['id', 'fdc_id', 'nutrient_id', 'amount', 'derivation_id', 'data_points']]"
      ]
    }
  ],
  "metadata": {
    "colab": {
      "provenance": []
    },
    "kernelspec": {
      "display_name": "Python 3",
      "name": "python3"
    },
    "language_info": {
      "name": "python"
    }
  },
  "nbformat": 4,
  "nbformat_minor": 0
}
